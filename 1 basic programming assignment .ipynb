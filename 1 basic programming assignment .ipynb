{
 "cells": [
  {
   "cell_type": "code",
   "execution_count": null,
   "id": "84a2410f",
   "metadata": {},
   "outputs": [],
   "source": [
    "'''ASSIGNMENT 1 OF BASIC PYTHON PROGRAMMING'''"
   ]
  },
  {
   "cell_type": "code",
   "execution_count": null,
   "id": "a9351740",
   "metadata": {},
   "outputs": [],
   "source": [
    "'''1.\tWrite a Python program to print \"Hello Python\"?\n",
    "2.\tWrite a Python program to do arithmetical operations addition and division.?\n",
    "3.\tWrite a Python program to find the area of a triangle?\n",
    "4.\tWrite a Python program to swap two variables?\n",
    "5.\tWrite a Python program to generate a random number?\n",
    "'''"
   ]
  },
  {
   "cell_type": "code",
   "execution_count": 5,
   "id": "c5ddebee",
   "metadata": {},
   "outputs": [],
   "source": [
    "'''1.\tWrite a Python program to print \"Hello Python\"?'''\n",
    "# import the logging module first\n",
    "import logging\n",
    "\n",
    "#configuration of the logging module\n",
    "logging.basicConfig(level=logging.INFO)\n",
    "\n",
    "# function creation\n",
    "def func1():\n",
    "    '''a function to print Hello World.'''\n",
    "    try:\n",
    "    \n",
    "        #return statement and successful logging\n",
    "        return \"Hello Python.\"\n",
    "        logging.info('successfull printitng of hello world executed')\n",
    "        \n",
    "    # handling exception message if any error occurrs  \n",
    "    except Exception as e:\n",
    "        logging.error(\"error occurred during execution of the code.\")\n",
    "        "
   ]
  },
  {
   "cell_type": "code",
   "execution_count": 6,
   "id": "d9634c2e",
   "metadata": {},
   "outputs": [
    {
     "data": {
      "text/plain": [
       "'Hello Python.'"
      ]
     },
     "execution_count": 6,
     "metadata": {},
     "output_type": "execute_result"
    }
   ],
   "source": [
    "func1()"
   ]
  },
  {
   "cell_type": "code",
   "execution_count": 37,
   "id": "d17c6ac9",
   "metadata": {},
   "outputs": [],
   "source": [
    "'''2.\tWrite a Python program to do arithmetical operations addition and division.?'''\n",
    "\n",
    "# import the logging module first\n",
    "import logging\n",
    "\n",
    "#configuration of the logging module\n",
    "logging.basicConfig(level=logging.INFO)\n",
    "\n",
    "# function creation\n",
    "def func2(a,b):\n",
    "    '''a function to perform addition and division of two numbers.'''\n",
    "    try:\n",
    "        sum1 = a+b\n",
    "        div1= a/b\n",
    "        logging.info('successfull execution of function')\n",
    "        return sum1,div1\n",
    "    # handling exception message if any error occurrs  \n",
    "    except Exception as e:\n",
    "        logging.error(\"error occurred during execution of the code.\")"
   ]
  },
  {
   "cell_type": "code",
   "execution_count": 38,
   "id": "49b6c7c6",
   "metadata": {},
   "outputs": [
    {
     "name": "stderr",
     "output_type": "stream",
     "text": [
      "INFO:root:successfull execution of function\n"
     ]
    },
    {
     "data": {
      "text/plain": [
       "(13, 1.6)"
      ]
     },
     "execution_count": 38,
     "metadata": {},
     "output_type": "execute_result"
    }
   ],
   "source": [
    "func2(8,5)"
   ]
  },
  {
   "cell_type": "code",
   "execution_count": 39,
   "id": "0b09e6e0",
   "metadata": {},
   "outputs": [],
   "source": [
    "'''3.\tWrite a Python program to find the area of a triangle?'''\n",
    "\n",
    "# import the logging module first\n",
    "import logging\n",
    "\n",
    "#configuration of the logging module\n",
    "logging.basicConfig(level=logging.INFO)\n",
    "\n",
    "# function creation\n",
    "def func3(height,base):\n",
    "    '''func to find area of a triangle.'''\n",
    "    try:\n",
    "        area_of_triangle = 0.5 * height * base\n",
    "        logging.info('triangle area is calculated successfully.')\n",
    "        return area_of_triangle\n",
    "    except Exception as e:\n",
    "        logging.error(\"some error has occurred.\")"
   ]
  },
  {
   "cell_type": "code",
   "execution_count": 40,
   "id": "473d7788",
   "metadata": {},
   "outputs": [
    {
     "name": "stderr",
     "output_type": "stream",
     "text": [
      "INFO:root:triangle area is calculated successfully.\n"
     ]
    },
    {
     "data": {
      "text/plain": [
       "36.0"
      ]
     },
     "execution_count": 40,
     "metadata": {},
     "output_type": "execute_result"
    }
   ],
   "source": [
    "func3(9,8)"
   ]
  },
  {
   "cell_type": "code",
   "execution_count": 41,
   "id": "c42b8603",
   "metadata": {},
   "outputs": [],
   "source": [
    "'''4.\tWrite a Python program to swap two variables?'''\n",
    "\n",
    "# import the logging module first\n",
    "import logging\n",
    "\n",
    "#configuration of the logging module\n",
    "logging.basicConfig(level=logging.INFO)\n",
    "\n",
    "# function creation\n",
    "def func4(a=10,b=90):\n",
    "    '''func to swap two variables'''\n",
    "    try:\n",
    "        c=None\n",
    "        c=a\n",
    "        a=b\n",
    "        b=c\n",
    "        logging.info('successfully swapping of variables took place.')\n",
    "        return (f\"the value of a and b is now : {a}, {b} \")\n",
    "    except Exception as e:\n",
    "        logging.error(f\" exception {e} has occurred.\")\n",
    "        "
   ]
  },
  {
   "cell_type": "code",
   "execution_count": 42,
   "id": "aa68a176",
   "metadata": {},
   "outputs": [
    {
     "name": "stderr",
     "output_type": "stream",
     "text": [
      "INFO:root:successfully swapping of variables took place.\n"
     ]
    },
    {
     "data": {
      "text/plain": [
       "'the value of a and b is now : 90, 10 '"
      ]
     },
     "execution_count": 42,
     "metadata": {},
     "output_type": "execute_result"
    }
   ],
   "source": [
    "func4()"
   ]
  },
  {
   "cell_type": "code",
   "execution_count": 45,
   "id": "736668b8",
   "metadata": {},
   "outputs": [],
   "source": [
    "'''5.\tWrite a Python program to generate a random number?'''\n",
    "\n",
    "# import the logging module first\n",
    "import logging\n",
    "\n",
    "#configuration of the logging module\n",
    "logging.basicConfig(level=logging.INFO)\n",
    "\n",
    "# function creation\n",
    "def func5(a,b):\n",
    "    '''func to generate a random loat number between a and b range.'''\n",
    "    import random\n",
    "    try:\n",
    "        num = random.uniform(a,b)\n",
    "        logging.info(\"successfully generated a random floating number.\")\n",
    "        return num\n",
    "    except Exception as e:\n",
    "        logging.error(f\" exception {e} has occurred.\")"
   ]
  },
  {
   "cell_type": "code",
   "execution_count": 179,
   "id": "6045eb25",
   "metadata": {},
   "outputs": [
    {
     "name": "stderr",
     "output_type": "stream",
     "text": [
      "INFO:root:successfully generated a random floating number.\n"
     ]
    },
    {
     "data": {
      "text/plain": [
       "32.11708217678321"
      ]
     },
     "execution_count": 179,
     "metadata": {},
     "output_type": "execute_result"
    }
   ],
   "source": [
    "func5(9,80)"
   ]
  },
  {
   "cell_type": "code",
   "execution_count": 43,
   "id": "c13b1ea9",
   "metadata": {},
   "outputs": [],
   "source": [
    "import random\n",
    "\n",
    "random.seed"
   ]
  }
 ],
 "metadata": {
  "kernelspec": {
   "display_name": "Python 3 (ipykernel)",
   "language": "python",
   "name": "python3"
  },
  "language_info": {
   "codemirror_mode": {
    "name": "ipython",
    "version": 3
   },
   "file_extension": ".py",
   "mimetype": "text/x-python",
   "name": "python",
   "nbconvert_exporter": "python",
   "pygments_lexer": "ipython3",
   "version": "3.11.5"
  }
 },
 "nbformat": 4,
 "nbformat_minor": 5
}
