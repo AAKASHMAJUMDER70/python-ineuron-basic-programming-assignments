{
 "cells": [
  {
   "cell_type": "code",
   "execution_count": null,
   "id": "bfbe32d6",
   "metadata": {},
   "outputs": [],
   "source": [
    "basic python programming assignment 2 "
   ]
  },
  {
   "cell_type": "code",
   "execution_count": null,
   "id": "c4ede704",
   "metadata": {},
   "outputs": [],
   "source": [
    "'''\n",
    "1.\tWrite a Python program to convert kilometers to miles?\n",
    "2.\tWrite a Python program to convert Celsius to Fahrenheit?\n",
    "3.\tWrite a Python program to display calendar?\n",
    "4.\tWrite a Python program to solve quadratic equation?\n",
    "5.\tWrite a Python program to swap two variables without temp variable?\n",
    "'''"
   ]
  },
  {
   "cell_type": "code",
   "execution_count": 20,
   "id": "bb5c97f0",
   "metadata": {},
   "outputs": [],
   "source": [
    "'''1.\tWrite a Python program to convert kilometers to miles?'''\n",
    "\n",
    "#importing logging module\n",
    "import logging\n",
    "#configuring the logging to info level\n",
    "logging.basicConfig(level=logging.INFO)\n",
    "\n",
    "#creation of the function\n",
    "def func1(a):\n",
    "    '''func to convert km into miles where a is the distance in km'''\n",
    "    try:\n",
    "        miles = 0.621371*a\n",
    "        logging.info('successful convertion of km into miles')\n",
    "        return (f\"distance entered is {a} km which when converted in miles is = {miles}\")\n",
    "    except Exception as e:\n",
    "        logging.error(f\"exception {e} occurred\")\n",
    "    "
   ]
  },
  {
   "cell_type": "code",
   "execution_count": 12,
   "id": "96fea07a",
   "metadata": {},
   "outputs": [
    {
     "name": "stderr",
     "output_type": "stream",
     "text": [
      "INFO:root:successful convertion of km into miles\n"
     ]
    },
    {
     "data": {
      "text/plain": [
       "'distance entered is 1 km which when converted in miles is = 0.621371'"
      ]
     },
     "execution_count": 12,
     "metadata": {},
     "output_type": "execute_result"
    }
   ],
   "source": [
    "func1(1)"
   ]
  },
  {
   "cell_type": "code",
   "execution_count": 16,
   "id": "4da0135d",
   "metadata": {},
   "outputs": [],
   "source": [
    "'''2.\tWrite a Python program to convert Celsius to Fahrenheit?'''\n",
    "\n",
    "#importing logging module\n",
    "import logging\n",
    "#configuring the logging to info level\n",
    "logging.basicConfig(level=logging.INFO)\n",
    "\n",
    "#creation of the function\n",
    "def func2(cel):\n",
    "    '''func to convert temp in celsius to fahrenheit'''\n",
    "    try:\n",
    "        fahrenheit = (9/5*cel)+32\n",
    "        logging.info('successful convertion of km into miles')\n",
    "        return (f\"temparature entered is {cel} degree celcius  which when converted is = {fahrenheit} degree fahrenheit.\")\n",
    "    except Exception as e:\n",
    "        logging.error(f\"exception {e} occurred\")\n",
    "    "
   ]
  },
  {
   "cell_type": "code",
   "execution_count": 19,
   "id": "61d5389f",
   "metadata": {},
   "outputs": [
    {
     "name": "stderr",
     "output_type": "stream",
     "text": [
      "INFO:root:successful convertion of km into miles\n"
     ]
    },
    {
     "data": {
      "text/plain": [
       "'temparature entered is 37 degree celcius  which when converted is = 98.60000000000001 degree fahrenheit. '"
      ]
     },
     "execution_count": 19,
     "metadata": {},
     "output_type": "execute_result"
    }
   ],
   "source": [
    "func2(37)"
   ]
  },
  {
   "cell_type": "code",
   "execution_count": 21,
   "id": "6cb8f24c",
   "metadata": {},
   "outputs": [
    {
     "name": "stdout",
     "output_type": "stream",
     "text": [
      "9 8\n"
     ]
    }
   ],
   "source": [
    "'''5.\tWrite a Python program to swap two variables without temp variable?'''\n",
    "\n",
    "a = 8\n",
    "b = 9\n",
    "b = b+a\n",
    "a = b - a\n",
    "b = b-a\n",
    "print(a,b)"
   ]
  },
  {
   "cell_type": "code",
   "execution_count": 23,
   "id": "3bcbca36",
   "metadata": {},
   "outputs": [
    {
     "name": "stdout",
     "output_type": "stream",
     "text": [
      "9 8\n"
     ]
    }
   ],
   "source": [
    "'''5.\tWrite a Python program to swap two variables without temp variable?'''\n",
    "\n",
    "a=8\n",
    "b=9\n",
    "a = a*b\n",
    "b = a/b\n",
    "a = a/b\n",
    "print(int(a),int(b))"
   ]
  },
  {
   "cell_type": "code",
   "execution_count": 30,
   "id": "52f66669",
   "metadata": {},
   "outputs": [],
   "source": [
    "'''3.\tWrite a Python program to display calendar?'''\n",
    "\n",
    "import calendar as cd\n",
    "def cal(mon,yr):\n",
    "    obj1 = cd.calendar(yr)\n",
    "    obj2 = cd.month(yr,mon)\n",
    "    return obj1,obj2\n",
    "    "
   ]
  },
  {
   "cell_type": "code",
   "execution_count": 39,
   "id": "84455464",
   "metadata": {},
   "outputs": [],
   "source": [
    "import calendar as cd\n",
    "def cal(yr,mon):\n",
    "    obj2 = cd.month(yr,mon)\n",
    "    return obj2\n"
   ]
  },
  {
   "cell_type": "code",
   "execution_count": 41,
   "id": "06c9581c",
   "metadata": {},
   "outputs": [],
   "source": [
    "import calendar as cd\n",
    "def cal(yr):\n",
    "    obj1 = cd.calendar(yr)\n",
    "    return obj1\n"
   ]
  },
  {
   "cell_type": "code",
   "execution_count": 42,
   "id": "9110ce48",
   "metadata": {},
   "outputs": [
    {
     "data": {
      "text/plain": [
       "'                                  2024\\n\\n      January                   February                   March\\nMo Tu We Th Fr Sa Su      Mo Tu We Th Fr Sa Su      Mo Tu We Th Fr Sa Su\\n 1  2  3  4  5  6  7                1  2  3  4                   1  2  3\\n 8  9 10 11 12 13 14       5  6  7  8  9 10 11       4  5  6  7  8  9 10\\n15 16 17 18 19 20 21      12 13 14 15 16 17 18      11 12 13 14 15 16 17\\n22 23 24 25 26 27 28      19 20 21 22 23 24 25      18 19 20 21 22 23 24\\n29 30 31                  26 27 28 29               25 26 27 28 29 30 31\\n\\n       April                      May                       June\\nMo Tu We Th Fr Sa Su      Mo Tu We Th Fr Sa Su      Mo Tu We Th Fr Sa Su\\n 1  2  3  4  5  6  7             1  2  3  4  5                      1  2\\n 8  9 10 11 12 13 14       6  7  8  9 10 11 12       3  4  5  6  7  8  9\\n15 16 17 18 19 20 21      13 14 15 16 17 18 19      10 11 12 13 14 15 16\\n22 23 24 25 26 27 28      20 21 22 23 24 25 26      17 18 19 20 21 22 23\\n29 30                     27 28 29 30 31            24 25 26 27 28 29 30\\n\\n        July                     August                  September\\nMo Tu We Th Fr Sa Su      Mo Tu We Th Fr Sa Su      Mo Tu We Th Fr Sa Su\\n 1  2  3  4  5  6  7                1  2  3  4                         1\\n 8  9 10 11 12 13 14       5  6  7  8  9 10 11       2  3  4  5  6  7  8\\n15 16 17 18 19 20 21      12 13 14 15 16 17 18       9 10 11 12 13 14 15\\n22 23 24 25 26 27 28      19 20 21 22 23 24 25      16 17 18 19 20 21 22\\n29 30 31                  26 27 28 29 30 31         23 24 25 26 27 28 29\\n                                                    30\\n\\n      October                   November                  December\\nMo Tu We Th Fr Sa Su      Mo Tu We Th Fr Sa Su      Mo Tu We Th Fr Sa Su\\n    1  2  3  4  5  6                   1  2  3                         1\\n 7  8  9 10 11 12 13       4  5  6  7  8  9 10       2  3  4  5  6  7  8\\n14 15 16 17 18 19 20      11 12 13 14 15 16 17       9 10 11 12 13 14 15\\n21 22 23 24 25 26 27      18 19 20 21 22 23 24      16 17 18 19 20 21 22\\n28 29 30 31               25 26 27 28 29 30         23 24 25 26 27 28 29\\n                                                    30 31\\n'"
      ]
     },
     "execution_count": 42,
     "metadata": {},
     "output_type": "execute_result"
    }
   ],
   "source": [
    "cal(2024)"
   ]
  },
  {
   "cell_type": "code",
   "execution_count": 28,
   "id": "512c50f0",
   "metadata": {},
   "outputs": [],
   "source": [
    "'''4.\tWrite a Python program to solve quadratic equation?'''\n",
    "\n",
    "#importing cmath module for performing complex root problems because math module function math function solves only real roots\n",
    "import cmath\n",
    "import logging\n",
    "logging.basicConfig(level=logging.info)\n",
    "# roots = [-b(+-)sqrt(b**2 -4ac)]/2a\n",
    "def func4(a,b,c):\n",
    "    try:\n",
    "        #calculating discriminant\n",
    "        discriminant = cmath.sqrt((b**2) -(4*a*c))\n",
    "        #calc the roots\n",
    "        root1 = (-b+discriminant)/(2*a)\n",
    "        root2 = (-b-discriminant)/(2*a)\n",
    "        logging.info('successfull execution of try block')\n",
    "        return root1,root2\n",
    "    except Exception as e:\n",
    "        logging.error(f\"{e} exception has occurred\")\n"
   ]
  },
  {
   "cell_type": "code",
   "execution_count": 29,
   "id": "d0496f42",
   "metadata": {},
   "outputs": [
    {
     "name": "stderr",
     "output_type": "stream",
     "text": [
      "INFO:root:successfull execution of try block\n"
     ]
    },
    {
     "data": {
      "text/plain": [
       "((-0.75+1.1989578808281798j), (-0.75-1.1989578808281798j))"
      ]
     },
     "execution_count": 29,
     "metadata": {},
     "output_type": "execute_result"
    }
   ],
   "source": [
    "func4(2,3,4)"
   ]
  },
  {
   "cell_type": "code",
   "execution_count": null,
   "id": "996ead84",
   "metadata": {},
   "outputs": [],
   "source": []
  },
  {
   "cell_type": "code",
   "execution_count": null,
   "id": "96fbb875",
   "metadata": {},
   "outputs": [],
   "source": []
  },
  {
   "cell_type": "code",
   "execution_count": null,
   "id": "74927094",
   "metadata": {},
   "outputs": [],
   "source": []
  },
  {
   "cell_type": "code",
   "execution_count": null,
   "id": "1d331fc1",
   "metadata": {},
   "outputs": [],
   "source": []
  },
  {
   "cell_type": "code",
   "execution_count": null,
   "id": "d6f5ef4c",
   "metadata": {},
   "outputs": [],
   "source": []
  },
  {
   "cell_type": "code",
   "execution_count": null,
   "id": "bf802be6",
   "metadata": {},
   "outputs": [],
   "source": []
  },
  {
   "cell_type": "code",
   "execution_count": null,
   "id": "65205412",
   "metadata": {},
   "outputs": [],
   "source": []
  },
  {
   "cell_type": "code",
   "execution_count": null,
   "id": "f8d15e8c",
   "metadata": {},
   "outputs": [],
   "source": []
  },
  {
   "cell_type": "code",
   "execution_count": null,
   "id": "ab10eb14",
   "metadata": {},
   "outputs": [],
   "source": []
  },
  {
   "cell_type": "code",
   "execution_count": null,
   "id": "937cbe98",
   "metadata": {},
   "outputs": [],
   "source": []
  },
  {
   "cell_type": "code",
   "execution_count": null,
   "id": "b50ad743",
   "metadata": {},
   "outputs": [],
   "source": []
  },
  {
   "cell_type": "code",
   "execution_count": null,
   "id": "951d148f",
   "metadata": {},
   "outputs": [],
   "source": []
  },
  {
   "cell_type": "code",
   "execution_count": null,
   "id": "861eceb4",
   "metadata": {},
   "outputs": [],
   "source": []
  },
  {
   "cell_type": "code",
   "execution_count": null,
   "id": "3cbeff74",
   "metadata": {},
   "outputs": [],
   "source": []
  },
  {
   "cell_type": "code",
   "execution_count": null,
   "id": "b4eef2d7",
   "metadata": {},
   "outputs": [],
   "source": []
  },
  {
   "cell_type": "code",
   "execution_count": null,
   "id": "7682db73",
   "metadata": {},
   "outputs": [],
   "source": []
  },
  {
   "cell_type": "code",
   "execution_count": null,
   "id": "3d826303",
   "metadata": {},
   "outputs": [],
   "source": []
  },
  {
   "cell_type": "code",
   "execution_count": null,
   "id": "5995a329",
   "metadata": {},
   "outputs": [],
   "source": []
  },
  {
   "cell_type": "code",
   "execution_count": null,
   "id": "fce7474d",
   "metadata": {},
   "outputs": [],
   "source": []
  },
  {
   "cell_type": "code",
   "execution_count": null,
   "id": "038316f2",
   "metadata": {},
   "outputs": [],
   "source": []
  },
  {
   "cell_type": "code",
   "execution_count": null,
   "id": "5bc276e7",
   "metadata": {},
   "outputs": [],
   "source": []
  },
  {
   "cell_type": "code",
   "execution_count": null,
   "id": "ccb5656b",
   "metadata": {},
   "outputs": [],
   "source": []
  },
  {
   "cell_type": "code",
   "execution_count": null,
   "id": "ba22fddf",
   "metadata": {},
   "outputs": [],
   "source": []
  },
  {
   "cell_type": "code",
   "execution_count": null,
   "id": "7df1f43d",
   "metadata": {},
   "outputs": [],
   "source": []
  },
  {
   "cell_type": "code",
   "execution_count": null,
   "id": "ebd58f3c",
   "metadata": {},
   "outputs": [],
   "source": []
  },
  {
   "cell_type": "code",
   "execution_count": null,
   "id": "7d577876",
   "metadata": {},
   "outputs": [],
   "source": []
  },
  {
   "cell_type": "code",
   "execution_count": null,
   "id": "56de316b",
   "metadata": {},
   "outputs": [],
   "source": []
  },
  {
   "cell_type": "code",
   "execution_count": null,
   "id": "8ede459b",
   "metadata": {},
   "outputs": [],
   "source": []
  },
  {
   "cell_type": "code",
   "execution_count": null,
   "id": "a11b9770",
   "metadata": {},
   "outputs": [],
   "source": []
  },
  {
   "cell_type": "code",
   "execution_count": null,
   "id": "4506129e",
   "metadata": {},
   "outputs": [],
   "source": []
  },
  {
   "cell_type": "code",
   "execution_count": null,
   "id": "25bbe51c",
   "metadata": {},
   "outputs": [],
   "source": []
  },
  {
   "cell_type": "code",
   "execution_count": null,
   "id": "d1c70a30",
   "metadata": {},
   "outputs": [],
   "source": []
  },
  {
   "cell_type": "code",
   "execution_count": null,
   "id": "eb03315c",
   "metadata": {},
   "outputs": [],
   "source": []
  }
 ],
 "metadata": {
  "kernelspec": {
   "display_name": "Python 3 (ipykernel)",
   "language": "python",
   "name": "python3"
  },
  "language_info": {
   "codemirror_mode": {
    "name": "ipython",
    "version": 3
   },
   "file_extension": ".py",
   "mimetype": "text/x-python",
   "name": "python",
   "nbconvert_exporter": "python",
   "pygments_lexer": "ipython3",
   "version": "3.11.5"
  }
 },
 "nbformat": 4,
 "nbformat_minor": 5
}
