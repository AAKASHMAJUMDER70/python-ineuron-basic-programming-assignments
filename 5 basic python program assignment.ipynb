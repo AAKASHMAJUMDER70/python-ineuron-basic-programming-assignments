{
 "cells": [
  {
   "cell_type": "code",
   "execution_count": null,
   "id": "560a2578",
   "metadata": {},
   "outputs": [],
   "source": [
    "'''\n",
    "1.\tWrite a Python Program to Find LCM?\n",
    "2.\tWrite a Python Program to Find HCF?\n",
    "3.\tWrite a Python Program to Convert Decimal to Binary, Octal and Hexadecimal?\n",
    "4.\tWrite a Python Program To Find ASCII value of a character?\n",
    "5.\tWrite a Python Program to Make a Simple Calculator with 4 basic mathematical operations?\n",
    "'''"
   ]
  },
  {
   "cell_type": "code",
   "execution_count": 12,
   "id": "773eda38",
   "metadata": {},
   "outputs": [],
   "source": [
    "'''1.\tWrite a Python Program to Find LCM? using hcf'''\n",
    "\n",
    "def lcm_num(num1,num2):\n",
    "    hcf = hcf2(num1,num2)\n",
    "    lcm = abs(num1*num2)/hcf\n",
    "    return int(lcm)"
   ]
  },
  {
   "cell_type": "code",
   "execution_count": 14,
   "id": "2518a6a7",
   "metadata": {},
   "outputs": [
    {
     "data": {
      "text/plain": [
       "18.0"
      ]
     },
     "execution_count": 14,
     "metadata": {},
     "output_type": "execute_result"
    }
   ],
   "source": [
    "lcm_num(9,6)"
   ]
  },
  {
   "cell_type": "code",
   "execution_count": 15,
   "id": "884a1b11",
   "metadata": {},
   "outputs": [],
   "source": [
    "'''1.\tWrite a Python Program to Find LCM? '''\n",
    "def lcm_st(num1,num2):\n",
    "    lcm=max(num1,num2)\n",
    "    while True:\n",
    "        if lcm%num1==0 and lcm%num2==0:\n",
    "            return lcm\n",
    "        lcm+=max(num1,num2)\n",
    "    \n",
    "    "
   ]
  },
  {
   "cell_type": "code",
   "execution_count": 18,
   "id": "3662e3dd",
   "metadata": {},
   "outputs": [
    {
     "data": {
      "text/plain": [
       "18"
      ]
     },
     "execution_count": 18,
     "metadata": {},
     "output_type": "execute_result"
    }
   ],
   "source": [
    "lcm_st(9,6)"
   ]
  },
  {
   "cell_type": "markdown",
   "id": "3e33d232",
   "metadata": {},
   "source": []
  },
  {
   "cell_type": "code",
   "execution_count": 3,
   "id": "bb084ea5",
   "metadata": {},
   "outputs": [],
   "source": [
    "'''2.\tWrite a Python Program to Find HCF? without euclidean algo'''\n",
    "\n",
    "def find_hcf(num1,num2):\n",
    "    small = min(num1,num2)\n",
    "    hcf = 1\n",
    "    for i in range(1,small+1):\n",
    "        if num1%i==0 and num2%i==0:\n",
    "            hcf = i\n",
    "    return hcf\n",
    "        "
   ]
  },
  {
   "cell_type": "code",
   "execution_count": 7,
   "id": "778c2de8",
   "metadata": {},
   "outputs": [
    {
     "data": {
      "text/plain": [
       "4"
      ]
     },
     "execution_count": 7,
     "metadata": {},
     "output_type": "execute_result"
    }
   ],
   "source": [
    "find_hcf(100,4)"
   ]
  },
  {
   "cell_type": "code",
   "execution_count": 8,
   "id": "ecd9e285",
   "metadata": {},
   "outputs": [],
   "source": [
    "'''2.\tWrite a Python Program to Find HCF? with euclidean algo'''\n",
    "\n",
    "def hcf2(num1,num2):\n",
    "    num3,num4=min(num1,num2),max(num1,num2)\n",
    "    while num3:\n",
    "        num3,num4 = num4 % num3 , num3\n",
    "    return num4"
   ]
  },
  {
   "cell_type": "code",
   "execution_count": 11,
   "id": "7f07fa40",
   "metadata": {},
   "outputs": [
    {
     "data": {
      "text/plain": [
       "1"
      ]
     },
     "execution_count": 11,
     "metadata": {},
     "output_type": "execute_result"
    }
   ],
   "source": [
    "hcf2(9,4)"
   ]
  },
  {
   "cell_type": "code",
   "execution_count": null,
   "id": "53767fbf",
   "metadata": {},
   "outputs": [],
   "source": [
    "'''3.\tWrite a Python Program to Convert Decimal to Binary, Octal and Hexadecimal?'''"
   ]
  },
  {
   "cell_type": "code",
   "execution_count": 26,
   "id": "64e51cab",
   "metadata": {},
   "outputs": [],
   "source": [
    "'''Python Program to Convert Decimal to Binary'''\n",
    "def dec_to_bin(num):\n",
    "    st=''\n",
    "    if num==0:\n",
    "        return 0\n",
    "    else:\n",
    "        while num>0:\n",
    "            r=num%2\n",
    "            num=num//2\n",
    "            st+=str(r)\n",
    "        return int(st[::-1])\n"
   ]
  },
  {
   "cell_type": "code",
   "execution_count": 27,
   "id": "d926c230",
   "metadata": {},
   "outputs": [
    {
     "data": {
      "text/plain": [
       "100100110"
      ]
     },
     "execution_count": 27,
     "metadata": {},
     "output_type": "execute_result"
    }
   ],
   "source": [
    "dec_to_bin(294)"
   ]
  },
  {
   "cell_type": "code",
   "execution_count": 28,
   "id": "525cf60a",
   "metadata": {},
   "outputs": [
    {
     "data": {
      "text/plain": [
       "10"
      ]
     },
     "execution_count": 28,
     "metadata": {},
     "output_type": "execute_result"
    }
   ],
   "source": [
    "dec_to_bin(2)"
   ]
  },
  {
   "cell_type": "code",
   "execution_count": 29,
   "id": "942e0d06",
   "metadata": {},
   "outputs": [
    {
     "data": {
      "text/plain": [
       "0"
      ]
     },
     "execution_count": 29,
     "metadata": {},
     "output_type": "execute_result"
    }
   ],
   "source": [
    "dec_to_bin(0)"
   ]
  },
  {
   "cell_type": "code",
   "execution_count": 39,
   "id": "22d5ab8b",
   "metadata": {},
   "outputs": [],
   "source": [
    "'''Python Program to Convert Decimal to octal'''\n",
    "\n",
    "def dec_to_octal(num):\n",
    "    st=''\n",
    "    if num>7:\n",
    "        while num>7:\n",
    "            r=num%8\n",
    "            num=num//8\n",
    "            st+=str(r)\n",
    "        st+=str(num)\n",
    "    elif num in range(0,8):\n",
    "        st = st+str(num)\n",
    "    return int(st[::-1])\n"
   ]
  },
  {
   "cell_type": "code",
   "execution_count": 40,
   "id": "b48d3725",
   "metadata": {},
   "outputs": [
    {
     "data": {
      "text/plain": [
       "64"
      ]
     },
     "execution_count": 40,
     "metadata": {},
     "output_type": "execute_result"
    }
   ],
   "source": [
    "dec_to_octal(52)"
   ]
  },
  {
   "cell_type": "code",
   "execution_count": 41,
   "id": "cdcc0a92",
   "metadata": {},
   "outputs": [
    {
     "data": {
      "text/plain": [
       "177"
      ]
     },
     "execution_count": 41,
     "metadata": {},
     "output_type": "execute_result"
    }
   ],
   "source": [
    "dec_to_octal(127)"
   ]
  },
  {
   "cell_type": "code",
   "execution_count": 42,
   "id": "5589041e",
   "metadata": {},
   "outputs": [
    {
     "data": {
      "text/plain": [
       "144"
      ]
     },
     "execution_count": 42,
     "metadata": {},
     "output_type": "execute_result"
    }
   ],
   "source": [
    "dec_to_octal(100)"
   ]
  },
  {
   "cell_type": "code",
   "execution_count": null,
   "id": "48e048c8",
   "metadata": {},
   "outputs": [],
   "source": [
    "'''Write a Python Program to Convert Decimal to Hexadecimal'''\n",
    "\n",
    "def dec_to_hexadec(num):\n",
    "    st=''"
   ]
  },
  {
   "cell_type": "code",
   "execution_count": null,
   "id": "38faec00",
   "metadata": {},
   "outputs": [],
   "source": []
  },
  {
   "cell_type": "code",
   "execution_count": null,
   "id": "e3d29275",
   "metadata": {},
   "outputs": [],
   "source": []
  },
  {
   "cell_type": "code",
   "execution_count": null,
   "id": "aadc5272",
   "metadata": {},
   "outputs": [],
   "source": []
  },
  {
   "cell_type": "code",
   "execution_count": null,
   "id": "0dd462d1",
   "metadata": {},
   "outputs": [],
   "source": []
  },
  {
   "cell_type": "code",
   "execution_count": null,
   "id": "7d15188e",
   "metadata": {},
   "outputs": [],
   "source": []
  },
  {
   "cell_type": "code",
   "execution_count": null,
   "id": "22c31c3a",
   "metadata": {},
   "outputs": [],
   "source": []
  },
  {
   "cell_type": "code",
   "execution_count": null,
   "id": "4291be09",
   "metadata": {},
   "outputs": [],
   "source": []
  },
  {
   "cell_type": "code",
   "execution_count": null,
   "id": "7d72af4e",
   "metadata": {},
   "outputs": [],
   "source": []
  },
  {
   "cell_type": "code",
   "execution_count": null,
   "id": "7f15eb2a",
   "metadata": {},
   "outputs": [],
   "source": []
  },
  {
   "cell_type": "code",
   "execution_count": 58,
   "id": "998221c0",
   "metadata": {},
   "outputs": [],
   "source": [
    "'''4.\tWrite a Python Program To Find ASCII value of a character?'''\n",
    "def ascii_value(char1):\n",
    "    char = str(char1)\n",
    "    if len(char) == 1:\n",
    "        val = ord(char)\n",
    "        return val\n",
    "    else:\n",
    "        print(\"Input must be a single character.\")"
   ]
  },
  {
   "cell_type": "code",
   "execution_count": 60,
   "id": "61a1fe68",
   "metadata": {},
   "outputs": [
    {
     "data": {
      "text/plain": [
       "97"
      ]
     },
     "execution_count": 60,
     "metadata": {},
     "output_type": "execute_result"
    }
   ],
   "source": [
    "ascii_value('a')"
   ]
  },
  {
   "cell_type": "code",
   "execution_count": 55,
   "id": "4fd7d704",
   "metadata": {},
   "outputs": [
    {
     "data": {
      "text/plain": [
       "97"
      ]
     },
     "execution_count": 55,
     "metadata": {},
     "output_type": "execute_result"
    }
   ],
   "source": [
    "ord('a')"
   ]
  },
  {
   "cell_type": "code",
   "execution_count": null,
   "id": "32b90a29",
   "metadata": {},
   "outputs": [],
   "source": [
    "'''5.\tWrite a Python Program to Make a Simple Calculator with 4 basic mathematical operations?'''\n",
    "\n",
    "def calculator(method,a,b):\n",
    "    '''methods are add,subtract,multiply,divide'''\n",
    "    if method=='add':\n",
    "        return a+b\n",
    "    elif method='multiply':\n",
    "        return a*b\n",
    "    elif method = 'subtract':\n",
    "        return abs(a-b)\n",
    "    elif method=='divide':\n",
    "        return max(a,b)/min(a,b)\n",
    "    else:\n",
    "        print('type the correct method in quotes and two nos.')"
   ]
  },
  {
   "cell_type": "code",
   "execution_count": null,
   "id": "b91a5a97",
   "metadata": {},
   "outputs": [],
   "source": []
  },
  {
   "cell_type": "code",
   "execution_count": null,
   "id": "760d2df8",
   "metadata": {},
   "outputs": [],
   "source": []
  },
  {
   "cell_type": "code",
   "execution_count": null,
   "id": "0b3eb1e9",
   "metadata": {},
   "outputs": [],
   "source": []
  },
  {
   "cell_type": "code",
   "execution_count": null,
   "id": "c2e44bbc",
   "metadata": {},
   "outputs": [],
   "source": []
  },
  {
   "cell_type": "code",
   "execution_count": null,
   "id": "a03b6544",
   "metadata": {},
   "outputs": [],
   "source": []
  },
  {
   "cell_type": "code",
   "execution_count": null,
   "id": "24f18d03",
   "metadata": {},
   "outputs": [],
   "source": []
  },
  {
   "cell_type": "code",
   "execution_count": null,
   "id": "02bff87b",
   "metadata": {},
   "outputs": [],
   "source": []
  },
  {
   "cell_type": "code",
   "execution_count": null,
   "id": "9040f735",
   "metadata": {},
   "outputs": [],
   "source": []
  },
  {
   "cell_type": "code",
   "execution_count": null,
   "id": "387a1e09",
   "metadata": {},
   "outputs": [],
   "source": []
  },
  {
   "cell_type": "code",
   "execution_count": null,
   "id": "e50ddd6d",
   "metadata": {},
   "outputs": [],
   "source": []
  },
  {
   "cell_type": "code",
   "execution_count": null,
   "id": "ea909621",
   "metadata": {},
   "outputs": [],
   "source": []
  },
  {
   "cell_type": "code",
   "execution_count": null,
   "id": "afee56f4",
   "metadata": {},
   "outputs": [],
   "source": []
  },
  {
   "cell_type": "code",
   "execution_count": null,
   "id": "b6a351c7",
   "metadata": {},
   "outputs": [],
   "source": []
  },
  {
   "cell_type": "code",
   "execution_count": null,
   "id": "3977e78d",
   "metadata": {},
   "outputs": [],
   "source": []
  },
  {
   "cell_type": "code",
   "execution_count": null,
   "id": "1670e94b",
   "metadata": {},
   "outputs": [],
   "source": []
  },
  {
   "cell_type": "code",
   "execution_count": null,
   "id": "151eaa23",
   "metadata": {},
   "outputs": [],
   "source": []
  },
  {
   "cell_type": "code",
   "execution_count": null,
   "id": "9a5333b4",
   "metadata": {},
   "outputs": [],
   "source": []
  },
  {
   "cell_type": "code",
   "execution_count": null,
   "id": "672b9eac",
   "metadata": {},
   "outputs": [],
   "source": []
  },
  {
   "cell_type": "code",
   "execution_count": null,
   "id": "2c9c55de",
   "metadata": {},
   "outputs": [],
   "source": []
  },
  {
   "cell_type": "code",
   "execution_count": null,
   "id": "73c179c3",
   "metadata": {},
   "outputs": [],
   "source": []
  },
  {
   "cell_type": "code",
   "execution_count": null,
   "id": "44cff439",
   "metadata": {},
   "outputs": [],
   "source": []
  },
  {
   "cell_type": "code",
   "execution_count": null,
   "id": "0e19033d",
   "metadata": {},
   "outputs": [],
   "source": []
  },
  {
   "cell_type": "code",
   "execution_count": null,
   "id": "e64768b5",
   "metadata": {},
   "outputs": [],
   "source": []
  },
  {
   "cell_type": "code",
   "execution_count": null,
   "id": "d554d7b4",
   "metadata": {},
   "outputs": [],
   "source": []
  },
  {
   "cell_type": "code",
   "execution_count": null,
   "id": "10a7c6a7",
   "metadata": {},
   "outputs": [],
   "source": []
  },
  {
   "cell_type": "code",
   "execution_count": null,
   "id": "7cb5ba7a",
   "metadata": {},
   "outputs": [],
   "source": []
  },
  {
   "cell_type": "code",
   "execution_count": null,
   "id": "599f68e9",
   "metadata": {},
   "outputs": [],
   "source": []
  },
  {
   "cell_type": "code",
   "execution_count": null,
   "id": "b981280a",
   "metadata": {},
   "outputs": [],
   "source": []
  }
 ],
 "metadata": {
  "kernelspec": {
   "display_name": "Python 3 (ipykernel)",
   "language": "python",
   "name": "python3"
  },
  "language_info": {
   "codemirror_mode": {
    "name": "ipython",
    "version": 3
   },
   "file_extension": ".py",
   "mimetype": "text/x-python",
   "name": "python",
   "nbconvert_exporter": "python",
   "pygments_lexer": "ipython3",
   "version": "3.11.5"
  }
 },
 "nbformat": 4,
 "nbformat_minor": 5
}
