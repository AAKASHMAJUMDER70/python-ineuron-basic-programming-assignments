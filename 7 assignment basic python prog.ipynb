{
 "cells": [
  {
   "cell_type": "code",
   "execution_count": null,
   "id": "d75e0b90",
   "metadata": {},
   "outputs": [],
   "source": [
    "'''1.\tWrite a Python Program to find sum of array?\n",
    "2.\tWrite a Python Program to find largest element in an array?\n",
    "3.\tWrite a Python Program for array rotation?\n",
    "4.\tWrite a Python Program to Split the array and add the first part to the end?\n",
    "5.\tWrite a Python Program to check if given array is Monotonic?\n",
    "'''"
   ]
  },
  {
   "cell_type": "code",
   "execution_count": 6,
   "id": "70b3464e",
   "metadata": {},
   "outputs": [],
   "source": [
    "'''1.\tWrite a Python Program to find sum of array?'''\n",
    "\n",
    "def sum_of_array():\n",
    "    import numpy as np\n",
    "    num_of_ele_in_array = int(input('enter the number of elements in the array : '))\n",
    "    lis=[]\n",
    "    for i in range(1,num_of_ele_in_array+1):\n",
    "        num = int(input(f'enter the {i}th element of array : '))\n",
    "        lis.append(num)\n",
    "    array=np.array(lis)\n",
    "    \n",
    "    sum_of_arr = np.sum(array)\n",
    "    return (f'the sum of the array is = {sum_of_arr}')"
   ]
  },
  {
   "cell_type": "code",
   "execution_count": 7,
   "id": "5fa33e31",
   "metadata": {},
   "outputs": [
    {
     "name": "stdout",
     "output_type": "stream",
     "text": [
      "enter the number of elements in the array : 4\n",
      "enter the 1th element of array : 7\n",
      "enter the 2th element of array : 8\n",
      "enter the 3th element of array : 9\n",
      "enter the 4th element of array : 7\n"
     ]
    },
    {
     "data": {
      "text/plain": [
       "'the sum of the array is = 31'"
      ]
     },
     "execution_count": 7,
     "metadata": {},
     "output_type": "execute_result"
    }
   ],
   "source": [
    "sum_of_array()"
   ]
  },
  {
   "cell_type": "code",
   "execution_count": null,
   "id": "3af3ae8d",
   "metadata": {},
   "outputs": [],
   "source": []
  },
  {
   "cell_type": "code",
   "execution_count": 8,
   "id": "bb7f37a1",
   "metadata": {},
   "outputs": [],
   "source": [
    "'''2.\tWrite a Python Program to find largest element in an array?'''\n",
    "\n",
    "def max_ele_of_array():\n",
    "    import numpy as np\n",
    "    num_of_ele_in_array = int(input('enter the number of elements in the array : '))\n",
    "    lis=[]\n",
    "    for i in range(1,num_of_ele_in_array+1):\n",
    "        num = int(input(f'enter the {i}th element of array : '))\n",
    "        lis.append(num)\n",
    "    array=np.array(lis)\n",
    "    \n",
    "    maximum = 0\n",
    "    for j in lis:\n",
    "        if j>maximum:\n",
    "            maximum = j\n",
    "    \n",
    "    return maximum\n",
    "        \n"
   ]
  },
  {
   "cell_type": "code",
   "execution_count": 9,
   "id": "011f4af0",
   "metadata": {},
   "outputs": [
    {
     "name": "stdout",
     "output_type": "stream",
     "text": [
      "enter the number of elements in the array : 4\n",
      "enter the 1th element of array : 6\n",
      "enter the 2th element of array : 7\n",
      "enter the 3th element of array : 8\n",
      "enter the 4th element of array : 9\n"
     ]
    },
    {
     "data": {
      "text/plain": [
       "9"
      ]
     },
     "execution_count": 9,
     "metadata": {},
     "output_type": "execute_result"
    }
   ],
   "source": [
    "max_ele_of_array()"
   ]
  },
  {
   "cell_type": "code",
   "execution_count": null,
   "id": "81fbf523",
   "metadata": {},
   "outputs": [],
   "source": []
  },
  {
   "cell_type": "code",
   "execution_count": null,
   "id": "6d483f8a",
   "metadata": {},
   "outputs": [],
   "source": []
  },
  {
   "cell_type": "code",
   "execution_count": 35,
   "id": "476f1ac9",
   "metadata": {},
   "outputs": [],
   "source": [
    "'''3.\tWrite a Python Program for array rotation?'''\n",
    "\n",
    "def rotation_of_array():\n",
    "    import numpy as np\n",
    "    num_of_ele_in_array = int(input('enter the number of elements in the array : '))\n",
    "    lis=[]\n",
    "    for i in range(1,num_of_ele_in_array+1):\n",
    "        num = int(input(f'enter the {i}th element of array : '))\n",
    "        lis.append(num)\n",
    "    array=np.array(lis)\n",
    "    \n",
    "    popped_ele = None\n",
    "    num = int(input('enter the number of times you want to rotate the array : '))\n",
    "    while num>0:\n",
    "        popped_ele = array[-1]\n",
    "        array = array[:-1]\n",
    "        array = np.insert(array,0,popped_ele)\n",
    "        num = num - 1\n",
    "    \n",
    "    return array"
   ]
  },
  {
   "cell_type": "code",
   "execution_count": 36,
   "id": "ae78c3fc",
   "metadata": {},
   "outputs": [
    {
     "name": "stdout",
     "output_type": "stream",
     "text": [
      "enter the number of elements in the array : 3\n",
      "enter the 1th element of array : 1\n",
      "enter the 2th element of array : 2\n",
      "enter the 3th element of array : 3\n",
      "enter the number of times you want to rotate the array : 1\n"
     ]
    },
    {
     "data": {
      "text/plain": [
       "array([3, 1, 2])"
      ]
     },
     "execution_count": 36,
     "metadata": {},
     "output_type": "execute_result"
    }
   ],
   "source": [
    "rotation_of_array()"
   ]
  },
  {
   "cell_type": "code",
   "execution_count": 37,
   "id": "deeb3131",
   "metadata": {},
   "outputs": [
    {
     "name": "stdout",
     "output_type": "stream",
     "text": [
      "enter the number of elements in the array : 3\n",
      "enter the 1th element of array : 1\n",
      "enter the 2th element of array : 2\n",
      "enter the 3th element of array : 3\n",
      "enter the number of times you want to rotate the array : 4\n"
     ]
    },
    {
     "data": {
      "text/plain": [
       "array([3, 1, 2])"
      ]
     },
     "execution_count": 37,
     "metadata": {},
     "output_type": "execute_result"
    }
   ],
   "source": [
    "rotation_of_array()"
   ]
  },
  {
   "cell_type": "code",
   "execution_count": null,
   "id": "d21f4036",
   "metadata": {},
   "outputs": [],
   "source": []
  },
  {
   "cell_type": "code",
   "execution_count": null,
   "id": "52d99da2",
   "metadata": {},
   "outputs": [],
   "source": []
  },
  {
   "cell_type": "code",
   "execution_count": null,
   "id": "26538efd",
   "metadata": {},
   "outputs": [],
   "source": []
  },
  {
   "cell_type": "code",
   "execution_count": null,
   "id": "457b162d",
   "metadata": {},
   "outputs": [],
   "source": []
  },
  {
   "cell_type": "code",
   "execution_count": 43,
   "id": "6ad9e2ae",
   "metadata": {},
   "outputs": [],
   "source": [
    "'''4.\tWrite a Python Program to Split the array and add the first part to the end?'''\n",
    "\n",
    "def splitting_of_array():\n",
    "    import numpy as np\n",
    "    num_of_ele_in_array = int(input('enter the number of elements in the array : '))\n",
    "    lis=[]\n",
    "    for i in range(1,num_of_ele_in_array+1):\n",
    "        num = int(input(f'enter the {i}th element of array : '))\n",
    "        lis.append(num)\n",
    "    array=np.array(lis)\n",
    "    \n",
    "    pos = int(input(\"enter the position at which you want to split the array\"))\n",
    "    sliced_array = array[:pos]\n",
    "    array = np.delete(array,slice(0,pos),axis =0)\n",
    "    array = np.concatenate((array,sliced_array),axis=0)"
   ]
  },
  {
   "cell_type": "code",
   "execution_count": 62,
   "id": "d4ba5fd8",
   "metadata": {},
   "outputs": [],
   "source": [
    "'''5.\tWrite a Python Program to check if given array is Monotonic?'''\n",
    "\n",
    "def check_monotonicity():\n",
    "    import numpy as np\n",
    "    num_of_ele_in_array = int(input('enter the number of elements in the array : '))\n",
    "    lis=[]\n",
    "    for i in range(1,num_of_ele_in_array+1):\n",
    "        num = int(input(f'enter the {i}th element of array : '))\n",
    "        lis.append(num)\n",
    "    array=np.array(lis)\n",
    "    \n",
    "    increase , decrease = True , True\n",
    "    \n",
    "    for i in range(1,len(array)):\n",
    "        if array[i]>array[i-1]:\n",
    "            decrease = False\n",
    "        elif array[i]<array[i-1]:\n",
    "            increase = False\n",
    "            break\n",
    "            \n",
    "            \n",
    "    if increase==True:\n",
    "        return ('monotonic increasing')\n",
    "    elif decrease==True:\n",
    "        return('monotonic decreasing')\n",
    "    else:\n",
    "        return ('not monotonic')"
   ]
  },
  {
   "cell_type": "code",
   "execution_count": 65,
   "id": "3e3682c9",
   "metadata": {},
   "outputs": [
    {
     "name": "stdout",
     "output_type": "stream",
     "text": [
      "enter the number of elements in the array : 3\n",
      "enter the 1th element of array : 4\n",
      "enter the 2th element of array : 7\n",
      "enter the 3th element of array : 1\n"
     ]
    },
    {
     "data": {
      "text/plain": [
       "'not monotonic'"
      ]
     },
     "execution_count": 65,
     "metadata": {},
     "output_type": "execute_result"
    }
   ],
   "source": [
    "check_monotonicity()"
   ]
  },
  {
   "cell_type": "code",
   "execution_count": null,
   "id": "04fee955",
   "metadata": {},
   "outputs": [],
   "source": []
  },
  {
   "cell_type": "code",
   "execution_count": null,
   "id": "626b5967",
   "metadata": {},
   "outputs": [],
   "source": []
  },
  {
   "cell_type": "code",
   "execution_count": null,
   "id": "2fd6690f",
   "metadata": {},
   "outputs": [],
   "source": []
  },
  {
   "cell_type": "code",
   "execution_count": null,
   "id": "d1a467bc",
   "metadata": {},
   "outputs": [],
   "source": []
  },
  {
   "cell_type": "code",
   "execution_count": null,
   "id": "4d9c1160",
   "metadata": {},
   "outputs": [],
   "source": []
  },
  {
   "cell_type": "code",
   "execution_count": null,
   "id": "e02c14ca",
   "metadata": {},
   "outputs": [],
   "source": []
  },
  {
   "cell_type": "code",
   "execution_count": 2,
   "id": "7c4992d0",
   "metadata": {},
   "outputs": [
    {
     "data": {
      "text/plain": [
       "32"
      ]
     },
     "execution_count": 2,
     "metadata": {},
     "output_type": "execute_result"
    }
   ],
   "source": [
    "sum([8,9,7,8])"
   ]
  },
  {
   "cell_type": "code",
   "execution_count": 29,
   "id": "bcde4783",
   "metadata": {},
   "outputs": [],
   "source": [
    "import numpy as np"
   ]
  },
  {
   "cell_type": "code",
   "execution_count": 30,
   "id": "e7dd5311",
   "metadata": {},
   "outputs": [],
   "source": [
    "s=[9,8,7,6,5]"
   ]
  },
  {
   "cell_type": "code",
   "execution_count": 31,
   "id": "c878b643",
   "metadata": {},
   "outputs": [],
   "source": [
    "s = np.array(s)"
   ]
  },
  {
   "cell_type": "code",
   "execution_count": 32,
   "id": "0b69d97d",
   "metadata": {},
   "outputs": [],
   "source": [
    "pop = np.delete(s,-1)"
   ]
  },
  {
   "cell_type": "code",
   "execution_count": 33,
   "id": "6a913545",
   "metadata": {},
   "outputs": [
    {
     "data": {
      "text/plain": [
       "array([9, 8, 7, 6])"
      ]
     },
     "execution_count": 33,
     "metadata": {},
     "output_type": "execute_result"
    }
   ],
   "source": [
    "pop"
   ]
  },
  {
   "cell_type": "code",
   "execution_count": 34,
   "id": "a2a41544",
   "metadata": {},
   "outputs": [
    {
     "data": {
      "text/plain": [
       "array([9, 8, 7, 6, 5])"
      ]
     },
     "execution_count": 34,
     "metadata": {},
     "output_type": "execute_result"
    }
   ],
   "source": [
    "s"
   ]
  },
  {
   "cell_type": "code",
   "execution_count": 15,
   "id": "12a80f47",
   "metadata": {},
   "outputs": [
    {
     "data": {
      "text/plain": [
       "[6, 5]"
      ]
     },
     "execution_count": 15,
     "metadata": {},
     "output_type": "execute_result"
    }
   ],
   "source": [
    "s[-2:]"
   ]
  },
  {
   "cell_type": "code",
   "execution_count": 17,
   "id": "f0052caf",
   "metadata": {},
   "outputs": [],
   "source": [
    "c=s.pop(-1)"
   ]
  },
  {
   "cell_type": "code",
   "execution_count": 18,
   "id": "352b6bad",
   "metadata": {},
   "outputs": [
    {
     "data": {
      "text/plain": [
       "6"
      ]
     },
     "execution_count": 18,
     "metadata": {},
     "output_type": "execute_result"
    }
   ],
   "source": [
    "c"
   ]
  },
  {
   "cell_type": "code",
   "execution_count": 19,
   "id": "c880a35b",
   "metadata": {},
   "outputs": [
    {
     "data": {
      "text/plain": [
       "[9, 8, 7]"
      ]
     },
     "execution_count": 19,
     "metadata": {},
     "output_type": "execute_result"
    }
   ],
   "source": [
    "s"
   ]
  },
  {
   "cell_type": "code",
   "execution_count": 20,
   "id": "533de30a",
   "metadata": {},
   "outputs": [],
   "source": [
    "s.insert(0,c)"
   ]
  },
  {
   "cell_type": "code",
   "execution_count": 21,
   "id": "dec9c6f9",
   "metadata": {},
   "outputs": [
    {
     "data": {
      "text/plain": [
       "[6, 9, 8, 7]"
      ]
     },
     "execution_count": 21,
     "metadata": {},
     "output_type": "execute_result"
    }
   ],
   "source": [
    "s"
   ]
  },
  {
   "cell_type": "code",
   "execution_count": 22,
   "id": "ffb7e8cf",
   "metadata": {},
   "outputs": [],
   "source": [
    "s = None"
   ]
  },
  {
   "cell_type": "code",
   "execution_count": 23,
   "id": "8bd6e2b2",
   "metadata": {},
   "outputs": [],
   "source": [
    "s = 0"
   ]
  },
  {
   "cell_type": "code",
   "execution_count": 24,
   "id": "86784ef2",
   "metadata": {},
   "outputs": [
    {
     "data": {
      "text/plain": [
       "0"
      ]
     },
     "execution_count": 24,
     "metadata": {},
     "output_type": "execute_result"
    }
   ],
   "source": [
    "s"
   ]
  },
  {
   "cell_type": "code",
   "execution_count": null,
   "id": "d0fae87a",
   "metadata": {},
   "outputs": [],
   "source": [
    "s = np.concatenate()"
   ]
  },
  {
   "cell_type": "code",
   "execution_count": 41,
   "id": "208617d1",
   "metadata": {},
   "outputs": [
    {
     "data": {
      "text/plain": [
       "array([9, 8, 7, 6, 5])"
      ]
     },
     "execution_count": 41,
     "metadata": {},
     "output_type": "execute_result"
    }
   ],
   "source": [
    "s"
   ]
  },
  {
   "cell_type": "code",
   "execution_count": 39,
   "id": "48c08495",
   "metadata": {},
   "outputs": [],
   "source": [
    "si=s[:2+1]"
   ]
  },
  {
   "cell_type": "code",
   "execution_count": 40,
   "id": "b5267f28",
   "metadata": {},
   "outputs": [
    {
     "data": {
      "text/plain": [
       "array([9, 8, 7])"
      ]
     },
     "execution_count": 40,
     "metadata": {},
     "output_type": "execute_result"
    }
   ],
   "source": [
    "si"
   ]
  },
  {
   "cell_type": "code",
   "execution_count": null,
   "id": "4e57d9d8",
   "metadata": {},
   "outputs": [],
   "source": []
  },
  {
   "cell_type": "code",
   "execution_count": null,
   "id": "a87204fb",
   "metadata": {},
   "outputs": [],
   "source": []
  },
  {
   "cell_type": "code",
   "execution_count": null,
   "id": "fa71f31c",
   "metadata": {},
   "outputs": [],
   "source": []
  },
  {
   "cell_type": "code",
   "execution_count": null,
   "id": "1c641d2e",
   "metadata": {},
   "outputs": [],
   "source": []
  },
  {
   "cell_type": "code",
   "execution_count": null,
   "id": "5df4b8de",
   "metadata": {},
   "outputs": [],
   "source": []
  },
  {
   "cell_type": "code",
   "execution_count": null,
   "id": "5cd60f3a",
   "metadata": {},
   "outputs": [],
   "source": []
  },
  {
   "cell_type": "code",
   "execution_count": null,
   "id": "ad626628",
   "metadata": {},
   "outputs": [],
   "source": []
  },
  {
   "cell_type": "code",
   "execution_count": null,
   "id": "18c2287b",
   "metadata": {},
   "outputs": [],
   "source": []
  },
  {
   "cell_type": "code",
   "execution_count": null,
   "id": "2857c2dc",
   "metadata": {},
   "outputs": [],
   "source": []
  },
  {
   "cell_type": "code",
   "execution_count": null,
   "id": "0abd16da",
   "metadata": {},
   "outputs": [],
   "source": []
  },
  {
   "cell_type": "code",
   "execution_count": null,
   "id": "26bfaacb",
   "metadata": {},
   "outputs": [],
   "source": []
  },
  {
   "cell_type": "code",
   "execution_count": null,
   "id": "f3f767d4",
   "metadata": {},
   "outputs": [],
   "source": []
  },
  {
   "cell_type": "code",
   "execution_count": null,
   "id": "79f32526",
   "metadata": {},
   "outputs": [],
   "source": []
  },
  {
   "cell_type": "code",
   "execution_count": null,
   "id": "bef62645",
   "metadata": {},
   "outputs": [],
   "source": []
  },
  {
   "cell_type": "code",
   "execution_count": null,
   "id": "dcefcb3a",
   "metadata": {},
   "outputs": [],
   "source": []
  },
  {
   "cell_type": "code",
   "execution_count": null,
   "id": "17dafd7a",
   "metadata": {},
   "outputs": [],
   "source": []
  },
  {
   "cell_type": "code",
   "execution_count": null,
   "id": "a5d8fff6",
   "metadata": {},
   "outputs": [],
   "source": []
  },
  {
   "cell_type": "code",
   "execution_count": null,
   "id": "f3ebae69",
   "metadata": {},
   "outputs": [],
   "source": []
  },
  {
   "cell_type": "code",
   "execution_count": null,
   "id": "52bc1d2d",
   "metadata": {},
   "outputs": [],
   "source": []
  },
  {
   "cell_type": "code",
   "execution_count": null,
   "id": "13fe14a4",
   "metadata": {},
   "outputs": [],
   "source": []
  },
  {
   "cell_type": "code",
   "execution_count": null,
   "id": "f6e89bb7",
   "metadata": {},
   "outputs": [],
   "source": []
  },
  {
   "cell_type": "code",
   "execution_count": null,
   "id": "4d1448fc",
   "metadata": {},
   "outputs": [],
   "source": []
  },
  {
   "cell_type": "code",
   "execution_count": null,
   "id": "c41751e5",
   "metadata": {},
   "outputs": [],
   "source": []
  },
  {
   "cell_type": "code",
   "execution_count": null,
   "id": "a41792d5",
   "metadata": {},
   "outputs": [],
   "source": []
  },
  {
   "cell_type": "code",
   "execution_count": null,
   "id": "c933e691",
   "metadata": {},
   "outputs": [],
   "source": []
  },
  {
   "cell_type": "code",
   "execution_count": null,
   "id": "92833537",
   "metadata": {},
   "outputs": [],
   "source": []
  },
  {
   "cell_type": "code",
   "execution_count": null,
   "id": "cc164b0a",
   "metadata": {},
   "outputs": [],
   "source": []
  },
  {
   "cell_type": "code",
   "execution_count": null,
   "id": "eb721667",
   "metadata": {},
   "outputs": [],
   "source": []
  },
  {
   "cell_type": "code",
   "execution_count": null,
   "id": "ad16c577",
   "metadata": {},
   "outputs": [],
   "source": []
  },
  {
   "cell_type": "code",
   "execution_count": null,
   "id": "11a05f84",
   "metadata": {},
   "outputs": [],
   "source": []
  },
  {
   "cell_type": "code",
   "execution_count": null,
   "id": "5d5d6f56",
   "metadata": {},
   "outputs": [],
   "source": []
  },
  {
   "cell_type": "code",
   "execution_count": null,
   "id": "84efd640",
   "metadata": {},
   "outputs": [],
   "source": []
  },
  {
   "cell_type": "code",
   "execution_count": null,
   "id": "dbb752ab",
   "metadata": {},
   "outputs": [],
   "source": []
  },
  {
   "cell_type": "code",
   "execution_count": null,
   "id": "162d47cc",
   "metadata": {},
   "outputs": [],
   "source": []
  },
  {
   "cell_type": "code",
   "execution_count": null,
   "id": "1c03e137",
   "metadata": {},
   "outputs": [],
   "source": []
  },
  {
   "cell_type": "code",
   "execution_count": null,
   "id": "e0ee5b3a",
   "metadata": {},
   "outputs": [],
   "source": []
  },
  {
   "cell_type": "code",
   "execution_count": null,
   "id": "3b5c8bef",
   "metadata": {},
   "outputs": [],
   "source": []
  },
  {
   "cell_type": "code",
   "execution_count": null,
   "id": "b1466dfc",
   "metadata": {},
   "outputs": [],
   "source": []
  },
  {
   "cell_type": "code",
   "execution_count": null,
   "id": "0f5662aa",
   "metadata": {},
   "outputs": [],
   "source": []
  },
  {
   "cell_type": "code",
   "execution_count": null,
   "id": "657b09de",
   "metadata": {},
   "outputs": [],
   "source": []
  },
  {
   "cell_type": "code",
   "execution_count": null,
   "id": "d1c9fc57",
   "metadata": {},
   "outputs": [],
   "source": []
  },
  {
   "cell_type": "code",
   "execution_count": null,
   "id": "2109c6ee",
   "metadata": {},
   "outputs": [],
   "source": []
  }
 ],
 "metadata": {
  "kernelspec": {
   "display_name": "Python 3 (ipykernel)",
   "language": "python",
   "name": "python3"
  },
  "language_info": {
   "codemirror_mode": {
    "name": "ipython",
    "version": 3
   },
   "file_extension": ".py",
   "mimetype": "text/x-python",
   "name": "python",
   "nbconvert_exporter": "python",
   "pygments_lexer": "ipython3",
   "version": "3.11.5"
  }
 },
 "nbformat": 4,
 "nbformat_minor": 5
}
