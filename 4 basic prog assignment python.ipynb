{
 "cells": [
  {
   "cell_type": "code",
   "execution_count": null,
   "id": "122e0a62",
   "metadata": {},
   "outputs": [],
   "source": [
    "'''1.\tWrite a Python Program to Find the Factorial of a Number?\n",
    "2.\tWrite a Python Program to Display the multiplication Table?\n",
    "3.\tWrite a Python Program to Print the Fibonacci sequence?\n",
    "4.\tWrite a Python Program to Check Armstrong Number?\n",
    "5.\tWrite a Python Program to Find Armstrong Number in an Interval?\n",
    "6.\tWrite a Python Program to Find the Sum of Natural Numbers?\n",
    "'''"
   ]
  },
  {
   "cell_type": "code",
   "execution_count": 1,
   "id": "b344539c",
   "metadata": {},
   "outputs": [],
   "source": [
    "'''1.\tWrite a Python Program to Find the Factorial of a Number?'''\n",
    "\n",
    "def func(a):\n",
    "    try:\n",
    "        c=1\n",
    "        for i in range(1,a+1):\n",
    "            c*=i\n",
    "        return c\n",
    "    except Exception as e:\n",
    "        return e\n",
    "            "
   ]
  },
  {
   "cell_type": "code",
   "execution_count": 6,
   "id": "48d0cff1",
   "metadata": {},
   "outputs": [
    {
     "data": {
      "text/plain": [
       "141302009261418325453762621393526286698658617796079910071353871488907640504160743565501241236107733762080837422133568434484213467457560621538131284091550631968816592748754460044234605778793037038634578162615257746896342308546754776364849349150715175577496877924111556740124186753117294177162303783405503829723023736326990734833969973121886593758921817486418079092325492863765948445727040946819291138129804200523981866521636537165676001267152151758174473660767772438139761519901508251733325317410707450984627544775891183776230678501637671689726049915871033588824272610663202323719389931283164345628668801970555064368945390634202638535930076803929062184736870310291943624402875877497305289749392357778468456405062145336924250773407066015135454416984550131804906976797622941301057536164271657477854025104530247400241587703885280095204104624235632766825184645847127845152855411530623429061372120607469651273815795437429759478958062539197279629575104299984571584633649528868101236905793259525917436877798780909275667980803203926354424450148098596386681966959342498581232330994696677186100809764161773397785695845695608487026255462400000000000000000000000000000000000000000000000000000000000000000000000000000000000000000000000000000000000000000000000000000000000000"
      ]
     },
     "execution_count": 6,
     "metadata": {},
     "output_type": "execute_result"
    }
   ],
   "source": [
    "func(546)"
   ]
  },
  {
   "cell_type": "code",
   "execution_count": 7,
   "id": "3342fb0a",
   "metadata": {},
   "outputs": [],
   "source": [
    "'''2.\tWrite a Python Program to Display the multiplication Table?'''\n",
    "\n",
    "def func2(num,num_range):\n",
    "    result=None\n",
    "    for i in range(1,num_range+1):\n",
    "        result = num * i\n",
    "        print(f\"{num} * {i} = {result}\")"
   ]
  },
  {
   "cell_type": "code",
   "execution_count": 9,
   "id": "97a262bd",
   "metadata": {},
   "outputs": [
    {
     "name": "stdout",
     "output_type": "stream",
     "text": [
      "8 * 1 = 8\n",
      "8 * 2 = 16\n",
      "8 * 3 = 24\n",
      "8 * 4 = 32\n",
      "8 * 5 = 40\n",
      "8 * 6 = 48\n",
      "8 * 7 = 56\n",
      "8 * 8 = 64\n",
      "8 * 9 = 72\n",
      "8 * 10 = 80\n",
      "8 * 11 = 88\n",
      "8 * 12 = 96\n",
      "8 * 13 = 104\n",
      "8 * 14 = 112\n",
      "8 * 15 = 120\n",
      "8 * 16 = 128\n",
      "8 * 17 = 136\n",
      "8 * 18 = 144\n",
      "8 * 19 = 152\n",
      "8 * 20 = 160\n",
      "8 * 21 = 168\n",
      "8 * 22 = 176\n",
      "8 * 23 = 184\n",
      "8 * 24 = 192\n",
      "8 * 25 = 200\n",
      "8 * 26 = 208\n",
      "8 * 27 = 216\n",
      "8 * 28 = 224\n",
      "8 * 29 = 232\n",
      "8 * 30 = 240\n",
      "8 * 31 = 248\n",
      "8 * 32 = 256\n",
      "8 * 33 = 264\n",
      "8 * 34 = 272\n",
      "8 * 35 = 280\n",
      "8 * 36 = 288\n",
      "8 * 37 = 296\n",
      "8 * 38 = 304\n",
      "8 * 39 = 312\n",
      "8 * 40 = 320\n",
      "8 * 41 = 328\n",
      "8 * 42 = 336\n",
      "8 * 43 = 344\n",
      "8 * 44 = 352\n",
      "8 * 45 = 360\n",
      "8 * 46 = 368\n",
      "8 * 47 = 376\n",
      "8 * 48 = 384\n",
      "8 * 49 = 392\n",
      "8 * 50 = 400\n",
      "8 * 51 = 408\n",
      "8 * 52 = 416\n",
      "8 * 53 = 424\n",
      "8 * 54 = 432\n",
      "8 * 55 = 440\n",
      "8 * 56 = 448\n",
      "8 * 57 = 456\n",
      "8 * 58 = 464\n",
      "8 * 59 = 472\n",
      "8 * 60 = 480\n",
      "8 * 61 = 488\n",
      "8 * 62 = 496\n",
      "8 * 63 = 504\n",
      "8 * 64 = 512\n",
      "8 * 65 = 520\n",
      "8 * 66 = 528\n",
      "8 * 67 = 536\n",
      "8 * 68 = 544\n",
      "8 * 69 = 552\n",
      "8 * 70 = 560\n",
      "8 * 71 = 568\n",
      "8 * 72 = 576\n",
      "8 * 73 = 584\n",
      "8 * 74 = 592\n",
      "8 * 75 = 600\n",
      "8 * 76 = 608\n",
      "8 * 77 = 616\n",
      "8 * 78 = 624\n",
      "8 * 79 = 632\n",
      "8 * 80 = 640\n",
      "8 * 81 = 648\n",
      "8 * 82 = 656\n",
      "8 * 83 = 664\n",
      "8 * 84 = 672\n",
      "8 * 85 = 680\n",
      "8 * 86 = 688\n",
      "8 * 87 = 696\n",
      "8 * 88 = 704\n",
      "8 * 89 = 712\n",
      "8 * 90 = 720\n"
     ]
    }
   ],
   "source": [
    "func2(8,90)"
   ]
  },
  {
   "cell_type": "code",
   "execution_count": 16,
   "id": "39948da9",
   "metadata": {},
   "outputs": [],
   "source": [
    "'''3.\tWrite a Python Program to Print the Fibonacci sequence?'''\n",
    "\n",
    "def func3(first,second,num_of_ele):\n",
    "    third = None\n",
    "    lis=[first,second]\n",
    "    for i in range(num_of_ele-1):\n",
    "        third = first + second\n",
    "        lis.append(third)\n",
    "        first = second\n",
    "        second = third\n",
    "    return lis"
   ]
  },
  {
   "cell_type": "code",
   "execution_count": 19,
   "id": "7e0bf564",
   "metadata": {},
   "outputs": [
    {
     "data": {
      "text/plain": [
       "[2, 2, 4, 6, 10, 16, 26, 42]"
      ]
     },
     "execution_count": 19,
     "metadata": {},
     "output_type": "execute_result"
    }
   ],
   "source": [
    "func3(2,2,7)"
   ]
  },
  {
   "cell_type": "code",
   "execution_count": 51,
   "id": "e4641426",
   "metadata": {},
   "outputs": [],
   "source": [
    "'''4.\tWrite a Python Program to Check Armstrong Number?'''\n",
    "\n",
    "def func4(num):\n",
    "    sum=0\n",
    "    c = len(str(num))\n",
    "    for i in str(num):\n",
    "        sum += pow(int(i),c)\n",
    "    if sum==num:\n",
    "        print(f\"{num} is an armstrong number.\")\n",
    "        return num\n",
    "    else:\n",
    "        print(f\"{num} is not an armstrong number.\")"
   ]
  },
  {
   "cell_type": "code",
   "execution_count": 55,
   "id": "26094bb7",
   "metadata": {},
   "outputs": [
    {
     "name": "stdout",
     "output_type": "stream",
     "text": [
      "153 is an armstrong number.\n"
     ]
    },
    {
     "data": {
      "text/plain": [
       "153"
      ]
     },
     "execution_count": 55,
     "metadata": {},
     "output_type": "execute_result"
    }
   ],
   "source": [
    "c=func4(153)\n",
    "c"
   ]
  },
  {
   "cell_type": "code",
   "execution_count": 63,
   "id": "59d7022f",
   "metadata": {},
   "outputs": [],
   "source": [
    "'''5.\tWrite a Python Program to Find Armstrong Number in an Interval?'''\n",
    "def func5(range_num_first,range_num_second):\n",
    "    ls=[]\n",
    "    for i in range(range_num_first,range_num_second):\n",
    "        sum=0\n",
    "        leng = len(str(i))\n",
    "        for j in str(i):\n",
    "            sum += int(j)**leng\n",
    "        if sum==i:\n",
    "            ls.append(i)\n",
    "        else:\n",
    "            pass\n",
    "            \n",
    "    return ls\n",
    "            \n",
    "    "
   ]
  },
  {
   "cell_type": "code",
   "execution_count": 65,
   "id": "553f4c8c",
   "metadata": {},
   "outputs": [
    {
     "data": {
      "text/plain": [
       "[0, 1, 2, 3, 4, 5, 6, 7, 8, 9, 153, 370, 371]"
      ]
     },
     "execution_count": 65,
     "metadata": {},
     "output_type": "execute_result"
    }
   ],
   "source": [
    "func5(0,380)"
   ]
  },
  {
   "cell_type": "code",
   "execution_count": 31,
   "id": "1d686b96",
   "metadata": {},
   "outputs": [],
   "source": [
    "'''6.\tWrite a Python Program to Find the Sum of Natural Numbers?'''\n",
    "\n",
    "def func6(limit):\n",
    "    sum=0\n",
    "    for i in range(1,limit+1):\n",
    "        sum+=i\n",
    "    return sum\n",
    "        "
   ]
  },
  {
   "cell_type": "code",
   "execution_count": 35,
   "id": "c1d70ea7",
   "metadata": {},
   "outputs": [
    {
     "data": {
      "text/plain": [
       "496"
      ]
     },
     "execution_count": 35,
     "metadata": {},
     "output_type": "execute_result"
    }
   ],
   "source": [
    "func6(31)"
   ]
  },
  {
   "cell_type": "code",
   "execution_count": 20,
   "id": "51bc35e2",
   "metadata": {},
   "outputs": [
    {
     "data": {
      "text/plain": [
       "3"
      ]
     },
     "execution_count": 20,
     "metadata": {},
     "output_type": "execute_result"
    }
   ],
   "source": [
    "len('876')"
   ]
  },
  {
   "cell_type": "code",
   "execution_count": 22,
   "id": "9988fade",
   "metadata": {},
   "outputs": [
    {
     "data": {
      "text/plain": [
       "str"
      ]
     },
     "execution_count": 22,
     "metadata": {},
     "output_type": "execute_result"
    }
   ],
   "source": [
    "type('876'[0])"
   ]
  },
  {
   "cell_type": "code",
   "execution_count": null,
   "id": "e5331609",
   "metadata": {},
   "outputs": [],
   "source": []
  },
  {
   "cell_type": "code",
   "execution_count": null,
   "id": "7ac4265c",
   "metadata": {},
   "outputs": [],
   "source": []
  },
  {
   "cell_type": "code",
   "execution_count": null,
   "id": "570a6ab0",
   "metadata": {},
   "outputs": [],
   "source": []
  },
  {
   "cell_type": "code",
   "execution_count": null,
   "id": "20058d25",
   "metadata": {},
   "outputs": [],
   "source": []
  },
  {
   "cell_type": "code",
   "execution_count": null,
   "id": "3b9ac72b",
   "metadata": {},
   "outputs": [],
   "source": []
  },
  {
   "cell_type": "code",
   "execution_count": null,
   "id": "1ed989ee",
   "metadata": {},
   "outputs": [],
   "source": []
  },
  {
   "cell_type": "code",
   "execution_count": null,
   "id": "b7d89903",
   "metadata": {},
   "outputs": [],
   "source": []
  },
  {
   "cell_type": "code",
   "execution_count": null,
   "id": "aeccff0e",
   "metadata": {},
   "outputs": [],
   "source": []
  },
  {
   "cell_type": "code",
   "execution_count": null,
   "id": "9848e180",
   "metadata": {},
   "outputs": [],
   "source": []
  },
  {
   "cell_type": "code",
   "execution_count": null,
   "id": "1361a6ea",
   "metadata": {},
   "outputs": [],
   "source": []
  },
  {
   "cell_type": "code",
   "execution_count": null,
   "id": "d1d33676",
   "metadata": {},
   "outputs": [],
   "source": []
  },
  {
   "cell_type": "code",
   "execution_count": null,
   "id": "8634d63f",
   "metadata": {},
   "outputs": [],
   "source": []
  },
  {
   "cell_type": "code",
   "execution_count": null,
   "id": "4108857c",
   "metadata": {},
   "outputs": [],
   "source": []
  },
  {
   "cell_type": "code",
   "execution_count": null,
   "id": "316c4fb6",
   "metadata": {},
   "outputs": [],
   "source": []
  },
  {
   "cell_type": "code",
   "execution_count": null,
   "id": "13c70614",
   "metadata": {},
   "outputs": [],
   "source": []
  },
  {
   "cell_type": "code",
   "execution_count": null,
   "id": "3cbd86ba",
   "metadata": {},
   "outputs": [],
   "source": []
  },
  {
   "cell_type": "code",
   "execution_count": null,
   "id": "731a410a",
   "metadata": {},
   "outputs": [],
   "source": []
  },
  {
   "cell_type": "code",
   "execution_count": null,
   "id": "54f565d7",
   "metadata": {},
   "outputs": [],
   "source": []
  },
  {
   "cell_type": "code",
   "execution_count": null,
   "id": "313d5863",
   "metadata": {},
   "outputs": [],
   "source": []
  },
  {
   "cell_type": "code",
   "execution_count": null,
   "id": "e48f4b60",
   "metadata": {},
   "outputs": [],
   "source": []
  },
  {
   "cell_type": "code",
   "execution_count": null,
   "id": "3103f90d",
   "metadata": {},
   "outputs": [],
   "source": []
  },
  {
   "cell_type": "code",
   "execution_count": null,
   "id": "ba0b2bf8",
   "metadata": {},
   "outputs": [],
   "source": []
  },
  {
   "cell_type": "code",
   "execution_count": null,
   "id": "2658603e",
   "metadata": {},
   "outputs": [],
   "source": []
  },
  {
   "cell_type": "code",
   "execution_count": null,
   "id": "899940d1",
   "metadata": {},
   "outputs": [],
   "source": []
  },
  {
   "cell_type": "code",
   "execution_count": null,
   "id": "b61ee68a",
   "metadata": {},
   "outputs": [],
   "source": []
  },
  {
   "cell_type": "code",
   "execution_count": null,
   "id": "215043c2",
   "metadata": {},
   "outputs": [],
   "source": []
  },
  {
   "cell_type": "code",
   "execution_count": null,
   "id": "134d692a",
   "metadata": {},
   "outputs": [],
   "source": []
  },
  {
   "cell_type": "code",
   "execution_count": null,
   "id": "eefbb732",
   "metadata": {},
   "outputs": [],
   "source": []
  },
  {
   "cell_type": "code",
   "execution_count": null,
   "id": "7ac91ef4",
   "metadata": {},
   "outputs": [],
   "source": []
  },
  {
   "cell_type": "code",
   "execution_count": null,
   "id": "905c8b14",
   "metadata": {},
   "outputs": [],
   "source": []
  },
  {
   "cell_type": "code",
   "execution_count": null,
   "id": "6bb7f533",
   "metadata": {},
   "outputs": [],
   "source": []
  },
  {
   "cell_type": "code",
   "execution_count": null,
   "id": "860278ba",
   "metadata": {},
   "outputs": [],
   "source": []
  },
  {
   "cell_type": "code",
   "execution_count": null,
   "id": "e0141af5",
   "metadata": {},
   "outputs": [],
   "source": []
  },
  {
   "cell_type": "code",
   "execution_count": null,
   "id": "6cd470f8",
   "metadata": {},
   "outputs": [],
   "source": []
  },
  {
   "cell_type": "code",
   "execution_count": null,
   "id": "334f2f38",
   "metadata": {},
   "outputs": [],
   "source": []
  },
  {
   "cell_type": "code",
   "execution_count": null,
   "id": "78d4e6a6",
   "metadata": {},
   "outputs": [],
   "source": []
  },
  {
   "cell_type": "code",
   "execution_count": null,
   "id": "a4c60c8d",
   "metadata": {},
   "outputs": [],
   "source": []
  },
  {
   "cell_type": "code",
   "execution_count": null,
   "id": "5c570671",
   "metadata": {},
   "outputs": [],
   "source": []
  }
 ],
 "metadata": {
  "kernelspec": {
   "display_name": "Python 3 (ipykernel)",
   "language": "python",
   "name": "python3"
  },
  "language_info": {
   "codemirror_mode": {
    "name": "ipython",
    "version": 3
   },
   "file_extension": ".py",
   "mimetype": "text/x-python",
   "name": "python",
   "nbconvert_exporter": "python",
   "pygments_lexer": "ipython3",
   "version": "3.11.5"
  }
 },
 "nbformat": 4,
 "nbformat_minor": 5
}
