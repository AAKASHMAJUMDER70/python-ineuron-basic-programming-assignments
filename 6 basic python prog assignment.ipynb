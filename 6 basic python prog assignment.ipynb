{
 "cells": [
  {
   "cell_type": "code",
   "execution_count": null,
   "id": "81471063",
   "metadata": {},
   "outputs": [],
   "source": [
    "''''\n",
    "1.\tWrite a Python Program to Display Fibonacci Sequence Using Recursion?\n",
    "2.\tWrite a Python Program to Find Factorial of Number Using Recursion?\n",
    "3.\tWrite a Python Program to calculate your Body Mass Index?\n",
    "4.\tWrite a Python Program to calculate the natural logarithm of any number?\n",
    "5.\tWrite a Python Program for cube sum of first n natural numbers?\n",
    "''''\n"
   ]
  },
  {
   "cell_type": "code",
   "execution_count": 23,
   "id": "87df68ed",
   "metadata": {},
   "outputs": [],
   "source": [
    "'''1.\tWrite a Python Program to Display Fibonacci Sequence Using Recursion?'''\n",
    "\n",
    "def fib_rec(terms):\n",
    "    if terms<=0:\n",
    "        return []\n",
    "    elif terms == 1:\n",
    "        return [0]\n",
    "    elif terms ==2:\n",
    "        return [0,1]\n",
    "    elif terms>2:\n",
    "        fib_re = fib_rec(terms-1)\n",
    "        fib_re.append(fib_re[-1]+fib_re[-2])\n",
    "        return fib_re\n",
    "        "
   ]
  },
  {
   "cell_type": "code",
   "execution_count": 25,
   "id": "1af58d03",
   "metadata": {},
   "outputs": [
    {
     "data": {
      "text/plain": [
       "[0, 1, 1, 2, 3, 5, 8, 13]"
      ]
     },
     "execution_count": 25,
     "metadata": {},
     "output_type": "execute_result"
    }
   ],
   "source": [
    "fib_rec(8)"
   ]
  },
  {
   "cell_type": "code",
   "execution_count": null,
   "id": "8adc26b8",
   "metadata": {},
   "outputs": [],
   "source": []
  },
  {
   "cell_type": "code",
   "execution_count": 1,
   "id": "fba5ce86",
   "metadata": {},
   "outputs": [],
   "source": [
    "'''2.\tWrite a Python Program to Find Factorial of Number Using Recursion?'''\n",
    "\n",
    "def rec_fact(n):\n",
    "    '''enter an int value'''\n",
    "    if n==0 or n==1:\n",
    "        result = 1\n",
    "    else:\n",
    "        result = n * rec_fact(n-1)\n",
    "    return result\n",
    "        "
   ]
  },
  {
   "cell_type": "code",
   "execution_count": 4,
   "id": "a7e70435",
   "metadata": {},
   "outputs": [
    {
     "data": {
      "text/plain": [
       "3628800"
      ]
     },
     "execution_count": 4,
     "metadata": {},
     "output_type": "execute_result"
    }
   ],
   "source": [
    "rec_fact(10)"
   ]
  },
  {
   "cell_type": "code",
   "execution_count": null,
   "id": "7e96e130",
   "metadata": {},
   "outputs": [],
   "source": []
  },
  {
   "cell_type": "code",
   "execution_count": null,
   "id": "b2dc6e86",
   "metadata": {},
   "outputs": [],
   "source": [
    "'''''\n",
    "The BMI is calculated by dividing an adult's weight in kilograms by their height in metres squared.\n",
    "\n",
    "For example, if you weigh 70kg (around 11 stone) and are 1.73m (around 5 foot 8 inches) tall, \n",
    "you work out your BMI by:\n",
    "\n",
    "squaring your height in metres: 1.73 x 1.73 = 2.99\n",
    "dividing your weight in kilograms: 70 ÷ 2.99 = 23.41\n",
    "Your result will be displayed to one decimal place, for example, 23.4.\n",
    "\n",
    "\n",
    "Measurement Units\tFormula and Calculation\n",
    "Kilograms and meters (or centimeters)\t\n",
    "Formula: weight (kg) / [height (m)]2\n",
    "\n",
    "The formula for BMI is weight in kilograms divided by height in meters squared. \n",
    "If height has been measured in centimeters, divide by 100 to convert this to meters.\n",
    "\n",
    "Pounds and inches\t\n",
    "Formula: 703 x weight (lbs) / [height (in)]2\n",
    "\n",
    "When using English measurements, pounds should be divided by inches squared. \n",
    "This should then be multiplied by 703 to convert from lbs/inches2 to kg/m2.\n",
    "''''''''''''''\n"
   ]
  },
  {
   "cell_type": "code",
   "execution_count": null,
   "id": "cc91c140",
   "metadata": {},
   "outputs": [],
   "source": []
  },
  {
   "cell_type": "code",
   "execution_count": 31,
   "id": "cf2f8b00",
   "metadata": {},
   "outputs": [],
   "source": [
    "'''3.\tWrite a Python Program to calculate your Body Mass Index?'''\n",
    "\n",
    "def bmi(method,wt,ht):\n",
    "    '''method are english and normal\n",
    "    if method is english, enter weight and height in pounds and inches respectively.\n",
    "    if method is normal, enter weight and height in kilograms and centimeters respectively.'''\n",
    "    \n",
    "    if method =='english':\n",
    "        bmi = (703*wt)/pow(ht,2)\n",
    "        return bmi\n",
    "    elif method =='normal':\n",
    "        ht = ht/100\n",
    "        bmi  = wt/pow(ht,2)\n",
    "        return bmi\n",
    "    else:\n",
    "        print('enter correct method, weight, height.')\n",
    "        \n",
    "        \n",
    "        \n",
    "        "
   ]
  },
  {
   "cell_type": "code",
   "execution_count": 32,
   "id": "e9f51d9d",
   "metadata": {},
   "outputs": [
    {
     "data": {
      "text/plain": [
       "25.990903183885642"
      ]
     },
     "execution_count": 32,
     "metadata": {},
     "output_type": "execute_result"
    }
   ],
   "source": [
    "bmi('normal',76,171)"
   ]
  },
  {
   "cell_type": "code",
   "execution_count": 34,
   "id": "47555a54",
   "metadata": {},
   "outputs": [
    {
     "data": {
      "text/plain": [
       "26.309645800846514"
      ]
     },
     "execution_count": 34,
     "metadata": {},
     "output_type": "execute_result"
    }
   ],
   "source": [
    "bmi('english',168,67)"
   ]
  },
  {
   "cell_type": "code",
   "execution_count": null,
   "id": "feef0d4f",
   "metadata": {},
   "outputs": [],
   "source": []
  },
  {
   "cell_type": "code",
   "execution_count": 35,
   "id": "7a73c779",
   "metadata": {},
   "outputs": [],
   "source": [
    "'''4.\tWrite a Python Program to calculate the natural logarithm of any number?'''\n",
    "\n",
    "def cal_natural_log(num):\n",
    "    import math\n",
    "    if num<0:\n",
    "        return \"Error\"\n",
    "    elif num==0:\n",
    "        return \"Infinity\"\n",
    "    elif num>0:\n",
    "        return math.log(num)\n",
    "    else:\n",
    "        return \"enter a poisitive number\""
   ]
  },
  {
   "cell_type": "code",
   "execution_count": 36,
   "id": "6c758296",
   "metadata": {},
   "outputs": [
    {
     "data": {
      "text/plain": [
       "'Error'"
      ]
     },
     "execution_count": 36,
     "metadata": {},
     "output_type": "execute_result"
    }
   ],
   "source": [
    "cal_natural_log(-1)"
   ]
  },
  {
   "cell_type": "code",
   "execution_count": 37,
   "id": "b3ee541e",
   "metadata": {},
   "outputs": [
    {
     "data": {
      "text/plain": [
       "'Infinity'"
      ]
     },
     "execution_count": 37,
     "metadata": {},
     "output_type": "execute_result"
    }
   ],
   "source": [
    "cal_natural_log(0)"
   ]
  },
  {
   "cell_type": "code",
   "execution_count": 38,
   "id": "bd682514",
   "metadata": {},
   "outputs": [
    {
     "data": {
      "text/plain": [
       "1.6094379124341003"
      ]
     },
     "execution_count": 38,
     "metadata": {},
     "output_type": "execute_result"
    }
   ],
   "source": [
    "cal_natural_log(5)"
   ]
  },
  {
   "cell_type": "code",
   "execution_count": 39,
   "id": "8cf54671",
   "metadata": {},
   "outputs": [
    {
     "data": {
      "text/plain": [
       "0.0"
      ]
     },
     "execution_count": 39,
     "metadata": {},
     "output_type": "execute_result"
    }
   ],
   "source": [
    "cal_natural_log(1)"
   ]
  },
  {
   "cell_type": "code",
   "execution_count": null,
   "id": "de376376",
   "metadata": {},
   "outputs": [],
   "source": []
  },
  {
   "cell_type": "code",
   "execution_count": 46,
   "id": "388ac8cf",
   "metadata": {},
   "outputs": [],
   "source": [
    "'''5.\tWrite a Python Program for cube sum of first n natural numbers?'''\n",
    "\n",
    "def cube_sum(num_of_terms):\n",
    "    sum1=0\n",
    "    for i in range(1,num_of_terms+1):\n",
    "        sum1 += abs(pow(i,3))\n",
    "    return sum1"
   ]
  },
  {
   "cell_type": "code",
   "execution_count": 41,
   "id": "7442b2bd",
   "metadata": {},
   "outputs": [],
   "source": [
    "def cube_sum1(num):\n",
    "    sum1 = abs(pow(((num*(num+1))/2),2))\n",
    "    return sum1"
   ]
  },
  {
   "cell_type": "code",
   "execution_count": 54,
   "id": "46fae092",
   "metadata": {},
   "outputs": [],
   "source": [
    "def cube_sum2(num):\n",
    "    sum1 = abs((pow(num,2)*pow(num+1,2))/4)\n",
    "    return sum1"
   ]
  },
  {
   "cell_type": "code",
   "execution_count": 59,
   "id": "7e68e397",
   "metadata": {},
   "outputs": [
    {
     "data": {
      "text/plain": [
       "36"
      ]
     },
     "execution_count": 59,
     "metadata": {},
     "output_type": "execute_result"
    }
   ],
   "source": [
    "cube_sum(3)"
   ]
  },
  {
   "cell_type": "code",
   "execution_count": 60,
   "id": "6d68a00c",
   "metadata": {},
   "outputs": [
    {
     "data": {
      "text/plain": [
       "36.0"
      ]
     },
     "execution_count": 60,
     "metadata": {},
     "output_type": "execute_result"
    }
   ],
   "source": [
    "cube_sum1(3)"
   ]
  },
  {
   "cell_type": "code",
   "execution_count": 61,
   "id": "cc0993e9",
   "metadata": {},
   "outputs": [
    {
     "data": {
      "text/plain": [
       "36.0"
      ]
     },
     "execution_count": 61,
     "metadata": {},
     "output_type": "execute_result"
    }
   ],
   "source": [
    "cube_sum2(3)"
   ]
  },
  {
   "cell_type": "code",
   "execution_count": null,
   "id": "35a8da67",
   "metadata": {},
   "outputs": [],
   "source": []
  },
  {
   "cell_type": "code",
   "execution_count": null,
   "id": "95d5139b",
   "metadata": {},
   "outputs": [],
   "source": []
  },
  {
   "cell_type": "code",
   "execution_count": null,
   "id": "fe1cad4d",
   "metadata": {},
   "outputs": [],
   "source": []
  },
  {
   "cell_type": "code",
   "execution_count": null,
   "id": "b114694e",
   "metadata": {},
   "outputs": [],
   "source": []
  },
  {
   "cell_type": "code",
   "execution_count": null,
   "id": "1582af4f",
   "metadata": {},
   "outputs": [],
   "source": []
  },
  {
   "cell_type": "code",
   "execution_count": null,
   "id": "fd0c218b",
   "metadata": {},
   "outputs": [],
   "source": []
  },
  {
   "cell_type": "code",
   "execution_count": null,
   "id": "bcd241e1",
   "metadata": {},
   "outputs": [],
   "source": []
  },
  {
   "cell_type": "code",
   "execution_count": null,
   "id": "8e6370b7",
   "metadata": {},
   "outputs": [],
   "source": []
  },
  {
   "cell_type": "code",
   "execution_count": null,
   "id": "1fa15f79",
   "metadata": {},
   "outputs": [],
   "source": []
  },
  {
   "cell_type": "code",
   "execution_count": null,
   "id": "5f4aa46d",
   "metadata": {},
   "outputs": [],
   "source": []
  },
  {
   "cell_type": "code",
   "execution_count": null,
   "id": "9c2abccb",
   "metadata": {},
   "outputs": [],
   "source": []
  },
  {
   "cell_type": "code",
   "execution_count": null,
   "id": "ddf2881c",
   "metadata": {},
   "outputs": [],
   "source": []
  },
  {
   "cell_type": "code",
   "execution_count": null,
   "id": "d1fb9905",
   "metadata": {},
   "outputs": [],
   "source": []
  },
  {
   "cell_type": "code",
   "execution_count": null,
   "id": "7ec7f811",
   "metadata": {},
   "outputs": [],
   "source": []
  },
  {
   "cell_type": "code",
   "execution_count": null,
   "id": "edfdf7a7",
   "metadata": {},
   "outputs": [],
   "source": []
  },
  {
   "cell_type": "code",
   "execution_count": null,
   "id": "520f0208",
   "metadata": {},
   "outputs": [],
   "source": []
  },
  {
   "cell_type": "code",
   "execution_count": null,
   "id": "81c937ba",
   "metadata": {},
   "outputs": [],
   "source": []
  },
  {
   "cell_type": "code",
   "execution_count": null,
   "id": "f5d13df1",
   "metadata": {},
   "outputs": [],
   "source": []
  },
  {
   "cell_type": "code",
   "execution_count": null,
   "id": "d876ae8e",
   "metadata": {},
   "outputs": [],
   "source": []
  },
  {
   "cell_type": "code",
   "execution_count": null,
   "id": "7342b28f",
   "metadata": {},
   "outputs": [],
   "source": []
  },
  {
   "cell_type": "code",
   "execution_count": null,
   "id": "6e76aa09",
   "metadata": {},
   "outputs": [],
   "source": []
  },
  {
   "cell_type": "code",
   "execution_count": null,
   "id": "094e0441",
   "metadata": {},
   "outputs": [],
   "source": []
  },
  {
   "cell_type": "code",
   "execution_count": null,
   "id": "c6e3cb29",
   "metadata": {},
   "outputs": [],
   "source": []
  },
  {
   "cell_type": "code",
   "execution_count": null,
   "id": "54d5c834",
   "metadata": {},
   "outputs": [],
   "source": []
  },
  {
   "cell_type": "code",
   "execution_count": null,
   "id": "b2d8078a",
   "metadata": {},
   "outputs": [],
   "source": []
  },
  {
   "cell_type": "code",
   "execution_count": null,
   "id": "1905e6b5",
   "metadata": {},
   "outputs": [],
   "source": []
  },
  {
   "cell_type": "code",
   "execution_count": null,
   "id": "24d5b8f1",
   "metadata": {},
   "outputs": [],
   "source": []
  },
  {
   "cell_type": "code",
   "execution_count": null,
   "id": "a4408bc8",
   "metadata": {},
   "outputs": [],
   "source": []
  },
  {
   "cell_type": "code",
   "execution_count": null,
   "id": "ef55df2b",
   "metadata": {},
   "outputs": [],
   "source": []
  },
  {
   "cell_type": "code",
   "execution_count": null,
   "id": "ed3c684a",
   "metadata": {},
   "outputs": [],
   "source": []
  }
 ],
 "metadata": {
  "kernelspec": {
   "display_name": "Python 3 (ipykernel)",
   "language": "python",
   "name": "python3"
  },
  "language_info": {
   "codemirror_mode": {
    "name": "ipython",
    "version": 3
   },
   "file_extension": ".py",
   "mimetype": "text/x-python",
   "name": "python",
   "nbconvert_exporter": "python",
   "pygments_lexer": "ipython3",
   "version": "3.11.5"
  }
 },
 "nbformat": 4,
 "nbformat_minor": 5
}
